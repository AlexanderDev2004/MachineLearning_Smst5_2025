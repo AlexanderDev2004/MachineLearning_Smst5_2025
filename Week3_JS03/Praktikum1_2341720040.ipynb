{
 "cells": [
  {
   "cell_type": "markdown",
   "id": "1822e617",
   "metadata": {},
   "source": [
    "Langkah 1 - Import Library"
   ]
  },
  {
   "cell_type": "code",
   "execution_count": 1,
   "id": "2139e4c1",
   "metadata": {},
   "outputs": [],
   "source": [
    "import pandas as pd\n",
    "import numpy as np\n",
    "from sklearn.model_selection import train_test_split\n",
    "from sklearn.compose import ColumnTransformer\n",
    "from sklearn.preprocessing import OneHotEncoder, StandardScaler\n",
    "from sklearn.pipeline import Pipeline\n",
    "from sklearn.impute import SimpleImputer\n",
    "from sklearn.linear_model import LogisticRegression\n",
    "from sklearn.feature_selection import chi2, SelectKBest, RFE\n",
    "from sklearn.metrics import accuracy_score, classification_report"
   ]
  },
  {
   "cell_type": "markdown",
   "id": "49ed1bc4",
   "metadata": {},
   "source": [
    "Langkah 2 - Load Data dan Pengelompokan Data"
   ]
  },
  {
   "cell_type": "markdown",
   "id": "77e16e79",
   "metadata": {},
   "source": [
    "Load data Titanic-Dataset.csv menggunakan pandas. Selanjutnya, kita akan memisahkan variabel target, yaitu Survived dan mengelompokkan data berdasarkan data numerik dan kategorikal."
   ]
  },
  {
   "cell_type": "code",
   "execution_count": 3,
   "id": "46ed07fb",
   "metadata": {},
   "outputs": [],
   "source": [
    "# Load Data\n",
    "df = pd.read_csv(\"Assets/Titanic-Dataset.csv\")\n",
    "\n",
    "# Pisahkan Survived\n",
    "y = df[\"Survived\"].astype(int)\n",
    "X = df.drop(columns=[\"Survived\"])\n",
    "\n",
    "# Buat list variabel numerik dan kategorikal\n",
    "# Akan digunakan untuk proses seleksi fitur\n",
    "# Name tidak akan digunakan karena tidak relevan\n",
    "num_cols = [\"Age\", \"SibSp\", \"Parch\", \"Fare\"]\n",
    "cat_cols = [\"Pclass\", \"Sex\", \"Embarked\"]"
   ]
  },
  {
   "cell_type": "markdown",
   "id": "2b695e9b",
   "metadata": {},
   "source": [
    "Langkah 3 - Ekstraksi Fitur"
   ]
  },
  {
   "cell_type": "markdown",
   "id": "b5bd6ce3",
   "metadata": {},
   "source": [
    "Pada tahap ini, kita akan melakukan ekstraksi fitur berdasarkan jenis data untuk setiap variabel. Selain itu, kita akan mencoba menggunakan Pipeline dari scikit-learn untuk proses ekstraksi fiturnya. Pipeline merupakan model proses yang dapat kita gunakan berkali kali sehingga memudahkan proses pembuatan model. Stategi ekstraksi fitur yang digunakan adalah imputasi dan penyekalaan. Proses ini juga sebenernya dapat dilakukan pada saat EDA dan proprocessing. Ingat, fitur pada data tabular sebenarnya adalah kolom-kolom dari data tabular."
   ]
  },
  {
   "cell_type": "code",
   "execution_count": 4,
   "id": "dbd9d195",
   "metadata": {},
   "outputs": [],
   "source": [
    "# Ekstaksi Fitur dengan Pipeline\n",
    "\n",
    "# Data Numerik\n",
    "num_tf = Pipeline([\n",
    "    (\"imputer\", SimpleImputer(strategy=\"median\")),\n",
    "    (\"scaler\", StandardScaler())\n",
    "])\n",
    "\n",
    "# Data Kategorikal\n",
    "cat_tf = Pipeline([\n",
    "    (\"imputer\", SimpleImputer(strategy=\"most_frequent\")),\n",
    "    (\"onehot\", OneHotEncoder(handle_unknown=\"ignore\"))\n",
    "])"
   ]
  },
  {
   "cell_type": "markdown",
   "id": "53ae2097",
   "metadata": {},
   "source": [
    "Langkah 3.1 - Feature Construction"
   ]
  },
  {
   "cell_type": "markdown",
   "id": "63986ddc",
   "metadata": {},
   "source": [
    "Selain menggunakan variabel-variabel yang sudah ada, sebetulnya kita dapat membuat fitur baru dalam data tabular berdasarkan proses agregasi atau penggabungan dari variabel-variabel yang lain. Langkah ini disebut sebagai feature construction. \n",
    "\n",
    "Kita akan membuat fitur bernama FamiliSize yang merupakan jumlah keluarga yang dapat dihitung berdasarkan SibSp + Parch + 1. SipSp merupakan data terkait dengan jumlah siblings dan spouse. Sedangkan Parch adalah data terkait dengan jumlah orang tua atau anak."
   ]
  },
  {
   "cell_type": "code",
   "execution_count": 5,
   "id": "9b2fe36b",
   "metadata": {},
   "outputs": [],
   "source": [
    "# Buat Fitur FamilySize\n",
    "X[\"FamilySize\"] = X[\"SibSp\"].fillna(0) + X[\"Parch\"].fillna(0) + 1\n",
    "\n",
    "# Tambahkan FamilySize pada kelompok numerikal\n",
    "preprocess = ColumnTransformer([\n",
    "    (\"num\", num_tf, num_cols + [\"FamilySize\"]),\n",
    "    (\"cat\", cat_tf, cat_cols),\n",
    "])"
   ]
  },
  {
   "cell_type": "markdown",
   "id": "361d702d",
   "metadata": {},
   "source": [
    "Langkah 4 - Seleksi Fitur"
   ]
  },
  {
   "cell_type": "markdown",
   "id": "0206166c",
   "metadata": {},
   "source": [
    "Kita akan melakukan proses seleksi fitur sederhana dengan menggunakan fungsi SelectKBest. Fungsi ini menggunakan metode univariate statistics dalam proses pemilihan fiturnya. Jumlah fitur yang digunakan sesuai dengan jumlah k yang digunakan. "
   ]
  },
  {
   "cell_type": "code",
   "execution_count": 6,
   "id": "18e69e40",
   "metadata": {},
   "outputs": [],
   "source": [
    "from sklearn.feature_selection import f_classif\n",
    "selector_filter = SelectKBest(score_func=f_classif, k=5)"
   ]
  },
  {
   "cell_type": "code",
   "execution_count": 7,
   "id": "c05a5b3c",
   "metadata": {},
   "outputs": [],
   "source": [
    "# Seleksi fitur dengan SelectKBest\n",
    "# Fungsi tersebut akan menggunakan analisis variance\n",
    "# Baca: https://scikit-learn.org/stable/modules/feature_selection.html#univariate-feature-selection\n",
    "\n",
    "from sklearn.feature_selection import f_classif\n",
    "selector_filter = SelectKBest(score_func=f_classif, k=5)\n",
    "\n",
    "# Buat pipeline final (INGAT INI HANYA PIPELINE, BELUM MEMPROSES DATA)\n",
    "pipe_filter = Pipeline([\n",
    "    (\"prep\", preprocess), # menjalankan pipeline preprocessing\n",
    "    (\"sel\", selector_filter), # menjalankan pipeline seleksi fitur\n",
    "    (\"clf\", LogisticRegression(max_iter=1000)) # uji dengan model sederhana -> Logistic Regression\n",
    "])"
   ]
  },
  {
   "cell_type": "markdown",
   "id": "d9ae3edd",
   "metadata": {},
   "source": [
    "Langkah 5 - Uji dengan Model"
   ]
  },
  {
   "cell_type": "markdown",
   "id": "02838496",
   "metadata": {},
   "source": [
    "Pada langkah ini kita akan melakukan uji langsung dengan melakukan proses pelatihan menggunakan model Logistic Regression untuk mengetahui hasil dari proses ekstraksi dan seleksi fitur terhadap nilai akurasi."
   ]
  },
  {
   "cell_type": "code",
   "execution_count": 8,
   "id": "0bde6c08",
   "metadata": {},
   "outputs": [
    {
     "name": "stdout",
     "output_type": "stream",
     "text": [
      "=== Filter (ANOVA) + LR ===\n",
      "Accuracy: 0.776536312849162\n",
      "              precision    recall  f1-score   support\n",
      "\n",
      "           0       0.80      0.85      0.82       110\n",
      "           1       0.73      0.67      0.70        69\n",
      "\n",
      "    accuracy                           0.78       179\n",
      "   macro avg       0.77      0.76      0.76       179\n",
      "weighted avg       0.77      0.78      0.77       179\n",
      "\n"
     ]
    }
   ],
   "source": [
    "# Lakukan pelatihan dan uji model\n",
    "X_train, X_test, y_train, y_test = train_test_split(X, y, stratify=y, test_size=0.2, random_state=42)\n",
    "\n",
    "pipe_filter.fit(X_train, y_train)\n",
    "pred = pipe_filter.predict(X_test)\n",
    "print(\"=== Filter (ANOVA) + LR ===\")\n",
    "print(\"Accuracy:\", accuracy_score(y_test, pred))\n",
    "print(classification_report(y_test, pred))"
   ]
  },
  {
   "cell_type": "markdown",
   "id": "ef8470df",
   "metadata": {},
   "source": [
    "NB: Anda mungkin mendapatkan hasil yang berbeda. \n",
    "\n",
    "Berdasarkan informasi tersebut, kita mengetahui tingkat akurasi yang didapatkan sekitar \n",
    "0.78\n",
    "0.78 atau \n",
    "78\n",
    "%\n",
    "78%. Hasilnya cukup baik namun tidak terlalu baik untuk mengetahui penumpang yang meninggal atau tidak. Hal ini erat kaitannya dengan fitur yang digunakan."
   ]
  },
  {
   "cell_type": "code",
   "execution_count": 9,
   "id": "d23c99c3",
   "metadata": {},
   "outputs": [
    {
     "name": "stdout",
     "output_type": "stream",
     "text": [
      "Nama fitur: ['num__Age' 'num__SibSp' 'num__Parch' 'num__Fare' 'num__FamilySize'\n",
      " 'cat__Pclass_1' 'cat__Pclass_2' 'cat__Pclass_3' 'cat__Sex_female'\n",
      " 'cat__Sex_male' 'cat__Embarked_C' 'cat__Embarked_Q' 'cat__Embarked_S']\n",
      "\n",
      "\n",
      "Top fitur: [('cat__Sex_female', np.float64(306.5932488951883)), ('cat__Sex_male', np.float64(306.59324889518797)), ('cat__Pclass_3', np.float64(80.33862734392042)), ('cat__Pclass_1', np.float64(73.99727564291717)), ('num__Fare', np.float64(58.31490728198491))]\n"
     ]
    }
   ],
   "source": [
    "# 1) Nama fitur setelah preprocess\n",
    "feat_names = pipe_filter.named_steps[\"prep\"].get_feature_names_out()\n",
    "print(\"Nama fitur:\", feat_names)\n",
    "print(\"\\n\")\n",
    "\n",
    "# 2) Mask & skor fitur terpilih (SelectKBest)\n",
    "sel = pipe_filter.named_steps[\"sel\"]\n",
    "mask = sel.get_support()\n",
    "selected_names = feat_names[mask]\n",
    "selected_scores = sel.scores_[mask]\n",
    "top = sorted(zip(selected_names, selected_scores), key=lambda t: t[1], reverse=True)[:10]\n",
    "print(\"Top fitur:\", top)"
   ]
  }
 ],
 "metadata": {
  "kernelspec": {
   "display_name": "base",
   "language": "python",
   "name": "python3"
  },
  "language_info": {
   "codemirror_mode": {
    "name": "ipython",
    "version": 3
   },
   "file_extension": ".py",
   "mimetype": "text/x-python",
   "name": "python",
   "nbconvert_exporter": "python",
   "pygments_lexer": "ipython3",
   "version": "3.13.5"
  }
 },
 "nbformat": 4,
 "nbformat_minor": 5
}
