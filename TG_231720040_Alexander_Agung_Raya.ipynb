{
  "cells": [
    {
      "cell_type": "markdown",
      "metadata": {
        "colab_type": "text",
        "id": "view-in-github"
      },
      "source": [
        "<a href=\"https://colab.research.google.com/github/AlexanderDev2004/MachineLearning_Smst5_2025/blob/main/TG_231720040_Alexander_Agung_Raya.ipynb\" target=\"_parent\"><img src=\"https://colab.research.google.com/assets/colab-badge.svg\" alt=\"Open In Colab\"/></a>"
      ]
    },
    {
      "cell_type": "markdown",
      "metadata": {
        "id": "y8KFSFJXZ1bb"
      },
      "source": [
        "Bagian 1"
      ]
    },
    {
      "cell_type": "markdown",
      "metadata": {
        "id": "73xq3mitZ6_4"
      },
      "source": [
        "1. Buat file notebook dengan nama TG1_NIM_NAMA.ipynb. Contoh: TG_0028119106_M AFIF HENDRAWAN.ipynb."
      ]
    },
    {
      "cell_type": "markdown",
      "metadata": {
        "id": "xXIuXTQdaIYB"
      },
      "source": [
        "Lakukan instalasi library berikut pada notebook,\n",
        "\n",
        "- PyPREP\n",
        "\n",
        "- Scipy\n",
        "\n",
        "- wandb\n",
        "\n",
        "- pyECG"
      ]
    },
    {
      "cell_type": "code",
      "execution_count": 7,
      "metadata": {},
      "outputs": [
        {
          "name": "stdout",
          "output_type": "stream",
          "text": [
            "Requirement already satisfied: scikit-learn==1.2.2 in c:\\users\\asus\\anaconda3\\envs\\ecg39\\lib\\site-packages (1.2.2)\n",
            "Requirement already satisfied: numpy>=1.17.3 in c:\\users\\asus\\anaconda3\\envs\\ecg39\\lib\\site-packages (from scikit-learn==1.2.2) (2.0.2)\n",
            "Requirement already satisfied: scipy>=1.3.2 in c:\\users\\asus\\anaconda3\\envs\\ecg39\\lib\\site-packages (from scikit-learn==1.2.2) (1.13.1)\n",
            "Requirement already satisfied: joblib>=1.1.1 in c:\\users\\asus\\anaconda3\\envs\\ecg39\\lib\\site-packages (from scikit-learn==1.2.2) (1.5.2)\n",
            "Requirement already satisfied: threadpoolctl>=2.0.0 in c:\\users\\asus\\anaconda3\\envs\\ecg39\\lib\\site-packages (from scikit-learn==1.2.2) (3.6.0)\n",
            "Requirement already satisfied: pandas in c:\\users\\asus\\anaconda3\\envs\\ecg39\\lib\\site-packages (2.3.2)\n",
            "Requirement already satisfied: numpy>=1.22.4 in c:\\users\\asus\\anaconda3\\envs\\ecg39\\lib\\site-packages (from pandas) (2.0.2)\n",
            "Requirement already satisfied: python-dateutil>=2.8.2 in c:\\users\\asus\\anaconda3\\envs\\ecg39\\lib\\site-packages (from pandas) (2.9.0.post0)\n",
            "Requirement already satisfied: pytz>=2020.1 in c:\\users\\asus\\anaconda3\\envs\\ecg39\\lib\\site-packages (from pandas) (2025.2)\n",
            "Requirement already satisfied: tzdata>=2022.7 in c:\\users\\asus\\anaconda3\\envs\\ecg39\\lib\\site-packages (from pandas) (2025.2)\n",
            "Requirement already satisfied: six>=1.5 in c:\\users\\asus\\anaconda3\\envs\\ecg39\\lib\\site-packages (from python-dateutil>=2.8.2->pandas) (1.17.0)\n",
            "Requirement already satisfied: pyecg in c:\\users\\asus\\anaconda3\\envs\\ecg39\\lib\\site-packages (0.0.9.1)\n",
            "Requirement already satisfied: pyprep in c:\\users\\asus\\anaconda3\\envs\\ecg39\\lib\\site-packages (0.5.0)\n",
            "Requirement already satisfied: scipy in c:\\users\\asus\\anaconda3\\envs\\ecg39\\lib\\site-packages (1.13.1)\n",
            "Requirement already satisfied: wandb in c:\\users\\asus\\anaconda3\\envs\\ecg39\\lib\\site-packages (0.21.3)\n",
            "Requirement already satisfied: mne>=1.3.0 in c:\\users\\asus\\anaconda3\\envs\\ecg39\\lib\\site-packages (from pyprep) (1.8.0)\n",
            "Requirement already satisfied: numpy>=1.20.2 in c:\\users\\asus\\anaconda3\\envs\\ecg39\\lib\\site-packages (from pyprep) (2.0.2)\n",
            "Requirement already satisfied: psutil>=5.4.3 in c:\\users\\asus\\anaconda3\\envs\\ecg39\\lib\\site-packages (from pyprep) (7.0.0)\n",
            "Requirement already satisfied: click>=8.0.1 in c:\\users\\asus\\anaconda3\\envs\\ecg39\\lib\\site-packages (from wandb) (8.1.8)\n",
            "Requirement already satisfied: eval-type-backport in c:\\users\\asus\\anaconda3\\envs\\ecg39\\lib\\site-packages (from wandb) (0.2.2)\n",
            "Requirement already satisfied: gitpython!=3.1.29,>=1.0.0 in c:\\users\\asus\\anaconda3\\envs\\ecg39\\lib\\site-packages (from wandb) (3.1.45)\n",
            "Requirement already satisfied: packaging in c:\\users\\asus\\anaconda3\\envs\\ecg39\\lib\\site-packages (from wandb) (25.0)\n",
            "Requirement already satisfied: platformdirs in c:\\users\\asus\\anaconda3\\envs\\ecg39\\lib\\site-packages (from wandb) (4.3.8)\n",
            "Requirement already satisfied: protobuf!=4.21.0,!=5.28.0,<7,>=3.19.0 in c:\\users\\asus\\anaconda3\\envs\\ecg39\\lib\\site-packages (from wandb) (6.32.0)\n",
            "Requirement already satisfied: pydantic<3 in c:\\users\\asus\\anaconda3\\envs\\ecg39\\lib\\site-packages (from wandb) (2.11.7)\n",
            "Requirement already satisfied: pyyaml in c:\\users\\asus\\anaconda3\\envs\\ecg39\\lib\\site-packages (from wandb) (6.0.2)\n",
            "Requirement already satisfied: requests<3,>=2.0.0 in c:\\users\\asus\\anaconda3\\envs\\ecg39\\lib\\site-packages (from wandb) (2.32.5)\n",
            "Requirement already satisfied: sentry-sdk>=2.0.0 in c:\\users\\asus\\anaconda3\\envs\\ecg39\\lib\\site-packages (from wandb) (2.35.2)\n",
            "Requirement already satisfied: typing-extensions<5,>=4.8 in c:\\users\\asus\\anaconda3\\envs\\ecg39\\lib\\site-packages (from wandb) (4.14.1)\n",
            "Requirement already satisfied: annotated-types>=0.6.0 in c:\\users\\asus\\anaconda3\\envs\\ecg39\\lib\\site-packages (from pydantic<3->wandb) (0.7.0)\n",
            "Requirement already satisfied: pydantic-core==2.33.2 in c:\\users\\asus\\anaconda3\\envs\\ecg39\\lib\\site-packages (from pydantic<3->wandb) (2.33.2)\n",
            "Requirement already satisfied: typing-inspection>=0.4.0 in c:\\users\\asus\\anaconda3\\envs\\ecg39\\lib\\site-packages (from pydantic<3->wandb) (0.4.1)\n",
            "Requirement already satisfied: charset_normalizer<4,>=2 in c:\\users\\asus\\anaconda3\\envs\\ecg39\\lib\\site-packages (from requests<3,>=2.0.0->wandb) (3.4.3)\n",
            "Requirement already satisfied: idna<4,>=2.5 in c:\\users\\asus\\anaconda3\\envs\\ecg39\\lib\\site-packages (from requests<3,>=2.0.0->wandb) (3.10)\n",
            "Requirement already satisfied: urllib3<3,>=1.21.1 in c:\\users\\asus\\anaconda3\\envs\\ecg39\\lib\\site-packages (from requests<3,>=2.0.0->wandb) (2.5.0)\n",
            "Requirement already satisfied: certifi>=2017.4.17 in c:\\users\\asus\\anaconda3\\envs\\ecg39\\lib\\site-packages (from requests<3,>=2.0.0->wandb) (2025.8.3)\n",
            "Requirement already satisfied: colorama in c:\\users\\asus\\anaconda3\\envs\\ecg39\\lib\\site-packages (from click>=8.0.1->wandb) (0.4.6)\n",
            "Requirement already satisfied: gitdb<5,>=4.0.1 in c:\\users\\asus\\anaconda3\\envs\\ecg39\\lib\\site-packages (from gitpython!=3.1.29,>=1.0.0->wandb) (4.0.12)\n",
            "Requirement already satisfied: smmap<6,>=3.0.1 in c:\\users\\asus\\anaconda3\\envs\\ecg39\\lib\\site-packages (from gitdb<5,>=4.0.1->gitpython!=3.1.29,>=1.0.0->wandb) (5.0.2)\n",
            "Requirement already satisfied: decorator in c:\\users\\asus\\anaconda3\\envs\\ecg39\\lib\\site-packages (from mne>=1.3.0->pyprep) (5.2.1)\n",
            "Requirement already satisfied: jinja2 in c:\\users\\asus\\anaconda3\\envs\\ecg39\\lib\\site-packages (from mne>=1.3.0->pyprep) (3.1.6)\n",
            "Requirement already satisfied: lazy-loader>=0.3 in c:\\users\\asus\\anaconda3\\envs\\ecg39\\lib\\site-packages (from mne>=1.3.0->pyprep) (0.4)\n",
            "Requirement already satisfied: matplotlib>=3.6 in c:\\users\\asus\\anaconda3\\envs\\ecg39\\lib\\site-packages (from mne>=1.3.0->pyprep) (3.9.4)\n",
            "Requirement already satisfied: pooch>=1.5 in c:\\users\\asus\\anaconda3\\envs\\ecg39\\lib\\site-packages (from mne>=1.3.0->pyprep) (1.8.2)\n",
            "Requirement already satisfied: tqdm in c:\\users\\asus\\anaconda3\\envs\\ecg39\\lib\\site-packages (from mne>=1.3.0->pyprep) (4.67.1)\n",
            "Requirement already satisfied: contourpy>=1.0.1 in c:\\users\\asus\\anaconda3\\envs\\ecg39\\lib\\site-packages (from matplotlib>=3.6->mne>=1.3.0->pyprep) (1.3.0)\n",
            "Requirement already satisfied: cycler>=0.10 in c:\\users\\asus\\anaconda3\\envs\\ecg39\\lib\\site-packages (from matplotlib>=3.6->mne>=1.3.0->pyprep) (0.12.1)\n",
            "Requirement already satisfied: fonttools>=4.22.0 in c:\\users\\asus\\anaconda3\\envs\\ecg39\\lib\\site-packages (from matplotlib>=3.6->mne>=1.3.0->pyprep) (4.59.2)\n",
            "Requirement already satisfied: kiwisolver>=1.3.1 in c:\\users\\asus\\anaconda3\\envs\\ecg39\\lib\\site-packages (from matplotlib>=3.6->mne>=1.3.0->pyprep) (1.4.7)\n",
            "Requirement already satisfied: pillow>=8 in c:\\users\\asus\\anaconda3\\envs\\ecg39\\lib\\site-packages (from matplotlib>=3.6->mne>=1.3.0->pyprep) (11.3.0)\n",
            "Requirement already satisfied: pyparsing>=2.3.1 in c:\\users\\asus\\anaconda3\\envs\\ecg39\\lib\\site-packages (from matplotlib>=3.6->mne>=1.3.0->pyprep) (3.2.3)\n",
            "Requirement already satisfied: python-dateutil>=2.7 in c:\\users\\asus\\anaconda3\\envs\\ecg39\\lib\\site-packages (from matplotlib>=3.6->mne>=1.3.0->pyprep) (2.9.0.post0)\n",
            "Requirement already satisfied: importlib-resources>=3.2.0 in c:\\users\\asus\\anaconda3\\envs\\ecg39\\lib\\site-packages (from matplotlib>=3.6->mne>=1.3.0->pyprep) (6.5.2)\n",
            "Requirement already satisfied: zipp>=3.1.0 in c:\\users\\asus\\anaconda3\\envs\\ecg39\\lib\\site-packages (from importlib-resources>=3.2.0->matplotlib>=3.6->mne>=1.3.0->pyprep) (3.23.0)\n",
            "Requirement already satisfied: six>=1.5 in c:\\users\\asus\\anaconda3\\envs\\ecg39\\lib\\site-packages (from python-dateutil>=2.7->matplotlib>=3.6->mne>=1.3.0->pyprep) (1.17.0)\n",
            "Requirement already satisfied: MarkupSafe>=2.0 in c:\\users\\asus\\anaconda3\\envs\\ecg39\\lib\\site-packages (from jinja2->mne>=1.3.0->pyprep) (3.0.2)\n",
            "Collecting ishneholterlib\n",
            "  Downloading ishneholterlib-2020.5.29-py3-none-any.whl.metadata (356 bytes)\n",
            "Collecting crccheck (from ishneholterlib)\n",
            "  Downloading crccheck-1.3.1-py3-none-any.whl.metadata (5.5 kB)\n",
            "Requirement already satisfied: numpy in c:\\users\\asus\\anaconda3\\envs\\ecg39\\lib\\site-packages (from ishneholterlib) (2.0.2)\n",
            "Downloading ishneholterlib-2020.5.29-py3-none-any.whl (8.4 kB)\n",
            "Downloading crccheck-1.3.1-py3-none-any.whl (24 kB)\n",
            "Installing collected packages: crccheck, ishneholterlib\n",
            "\n",
            "   ---------------------------------------- 2/2 [ishneholterlib]\n",
            "\n",
            "Successfully installed crccheck-1.3.1 ishneholterlib-2020.5.29\n"
          ]
        },
        {
          "name": "stderr",
          "output_type": "stream",
          "text": [
            "ERROR: pip's dependency resolver does not currently take into account all the packages that are installed. This behaviour is the source of the following dependency conflicts.\n",
            "pyecg 0.0.9.1 requires pytest, which is not installed.\n",
            "pyecg 0.0.9.1 requires pytest-cov, which is not installed.\n",
            "pyecg 0.0.9.1 requires wfdb==2.2.1, which is not installed.\n",
            "pyecg 0.0.9.1 requires ishneholterlib==2017.4.11, but you have ishneholterlib 2020.5.29 which is incompatible.\n"
          ]
        }
      ],
      "source": [
        "!pip install scikit-learn==1.2.2\n",
        "!pip install pandas\n",
        "!pip install pyecg --no-deps\n",
        "!pip install pyprep scipy wandb\n",
        "!pip install ishneholterlib\n",
        "\n"
      ]
    },
    {
      "cell_type": "code",
      "execution_count": 8,
      "metadata": {
        "colab": {
          "base_uri": "https://localhost:8080/",
          "height": 529
        },
        "id": "wfwyo8r0Ze--",
        "outputId": "b04b8cb9-4d43-49a0-826f-d9d26ab0c9ed"
      },
      "outputs": [
        {
          "name": "stdout",
          "output_type": "stream",
          "text": [
            "PyPREP: 0.5.0\n",
            "SciPy: 1.13.1\n",
            "wandb: 0.21.3\n",
            "pyECG: 0.0.9.1\n"
          ]
        }
      ],
      "source": [
        "import pyprep\n",
        "import scipy\n",
        "import wandb\n",
        "import pyecg \n",
        "\n",
        "print(\"PyPREP:\", pyprep.__version__)\n",
        "print(\"SciPy:\", scipy.__version__)\n",
        "print(\"wandb:\", wandb.__version__)\n",
        "print(\"pyECG:\", pyecg.__version__)"
      ]
    },
    {
      "cell_type": "markdown",
      "metadata": {},
      "source": [
        "3 Jelaskan kegunakan masing-masing library tersebut."
      ]
    },
    {
      "cell_type": "markdown",
      "metadata": {},
      "source": [
        "- PyPREP\n",
        "\n",
        "Digunakan untuk preprocessing sinyal EEG (Electroencephalography).\n",
        "Library ini mengimplementasikan algoritma PREP pipeline untuk menghilangkan noise, baseline wander, dan memperbaiki kualitas sinyal EEG sebelum dianalisis.\n",
        "\n",
        "- Scipy\n",
        "\n",
        "Library ilmiah dan numerik di Python.\n",
        "Banyak dipakai untuk operasi matematika, optimisasi, statistik, sinyal, dan citra.\n",
        "Contoh: filtering sinyal ECG/EEG, FFT (Fast Fourier Transform), integrasi, interpolasi, dll.\n",
        "\n",
        "- wandb (Weights & Biases)\n",
        "\n",
        "Alat untuk experiment tracking dan model monitoring dalam machine learning/deep learning.\n",
        "Fungsinya mencatat hasil training, grafik loss/akurasi, hyperparameter, dan log eksperimen secara otomatis ke dashboard online.\n",
        "\n",
        "- pyECG\n",
        "\n",
        "Library untuk pemrosesan sinyal ECG (Electrocardiogram).\n",
        "Mendukung pembacaan file ECG, preprocessing, ekstraksi fitur, dan analisis sinyal jantung.\n",
        "Cocok digunakan untuk riset biometrik, kesehatan, maupun machine learning berbasis sinyal jantung."
      ]
    }
  ],
  "metadata": {
    "colab": {
      "authorship_tag": "ABX9TyORdfO+JN/hjOnQ1Rj4mtmX",
      "include_colab_link": true,
      "provenance": []
    },
    "kernelspec": {
      "display_name": "ecg39",
      "language": "python",
      "name": "python3"
    },
    "language_info": {
      "codemirror_mode": {
        "name": "ipython",
        "version": 3
      },
      "file_extension": ".py",
      "mimetype": "text/x-python",
      "name": "python",
      "nbconvert_exporter": "python",
      "pygments_lexer": "ipython3",
      "version": "3.9.23"
    }
  },
  "nbformat": 4,
  "nbformat_minor": 0
}
