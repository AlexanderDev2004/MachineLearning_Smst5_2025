{
 "cells": [
  {
   "cell_type": "markdown",
   "id": "161fd3e1",
   "metadata": {},
   "source": [
    "**Nama** : Alexander Agung Raya <br>\n",
    "**Kelas** : TI-3H <br>\n",
    "**Nim** : 2341720040"
   ]
  },
  {
   "cell_type": "markdown",
   "id": "66fb4009",
   "metadata": {},
   "source": [
    "Tugas kali ini adalah mengerjakan studi kasus analisis data dan clustering menggunakan unsupervised learning dengan langkah-langkah sebagai berikut:\n",
    "\n",
    "1. Preprocessing data\n",
    "   - Tangani missing values (imputasi mean/median/modus sesuai jenis data)\n",
    "   - Normalisasi atau standarisasi data\n",
    "   - Buat minimal satu fitur baru hasil kombinasi fitur lama\n",
    "\n",
    "2. Clustering\n",
    "   - Terapkan K-Means dan DBSCAN\n",
    "   - Bandingkan hasil clustering menggunakan:\n",
    "\t - Silhouette Score\n",
    "\t - Davies–Bouldin Index\n",
    "\n",
    "3. Approximate Nearest Neighbor (ANN)\n",
    "   - Gunakan Annoy untuk mencari tetangga terdekat dari beberapa query points hasil clustering\n",
    "   - Tampilkan output berupa:\n",
    "\t - Index query point\n",
    "\t - Daftar tetangga terdekat yang ditemukan\n",
    "\t - Nilai jarak / kemiripan\n"
   ]
  },
  {
   "cell_type": "markdown",
   "id": "76e1e033",
   "metadata": {},
   "source": [
    "Tugas 1 — House Prices Dataset\n",
    "Untuk mahasiswa dengan nomor absen 1, 4, 7, dst.\n",
    "  - Dataset: House Prices - Advanced Regression Techniques\n",
    "  - Deskripsi: Dataset ini berisi atribut rumah (luas, tipe bangunan, kondisi, lokasi, dsb.) yang dapat digunakan untuk eksplorasi fitur, penanganan missing values, dan clustering rumah dengan karakteristik mirip.\n",
    "-\tLangkah tambahan:\n",
    " - Fokus pada subset fitur numerik terlebih dahulu.\n",
    " - Coba buat fitur baru seperti “TotalArea = GrLivArea + TotalBsmtSF”.\n"
   ]
  },
  {
   "cell_type": "markdown",
   "id": "ec332e5b",
   "metadata": {},
   "source": [
    "1. Import library"
   ]
  },
  {
   "cell_type": "code",
   "execution_count": 3,
   "id": "8e7ac4b0",
   "metadata": {},
   "outputs": [],
   "source": [
    "import pandas as pd\n",
    "import numpy as np\n",
    "from sklearn.preprocessing import StandardScaler\n",
    "from sklearn.cluster import KMeans, DBSCAN\n",
    "from sklearn.decomposition import PCA\n",
    "from sklearn.metrics import silhouette_score, davies_bouldin_score\n",
    "from annoy import AnnoyIndex\n",
    "import matplotlib.pyplot as plt\n",
    "import seaborn as sns"
   ]
  },
  {
   "cell_type": "markdown",
   "id": "80300c8a",
   "metadata": {},
   "source": [
    "Penjelasan singkat library\n",
    "- pandas, numpy: manipulasi data dan operasi numerik dasar.\n",
    "- StandardScaler: standarisasi fitur sebelum clustering (K-Means/DBSCAN sensitif terhadap skala).\n",
    "- KMeans, DBSCAN: algoritma clustering yang dipakai (KMeans dengan n_clusters=3; DBSCAN eps=2.5, min_samples=5 — parameter sebaiknya di-tuning).\n",
    "- PCA: reduksi dimensi ke 2 komponen hanya untuk visualisasi.\n",
    "- silhouette_score: nilai semakin dekat ke 1 → cluster lebih baik; hitung hanya untuk sampel non-noise pada DBSCAN.\n",
    "- davies_bouldin_score: nilai lebih kecil → cluster lebih baik.\n",
    "- AnnoyIndex (Annoy): ANN cepat untuk pencarian tetangga; menggunakan metrik euclidean dan 10 trees di build(); output menampilkan index query, daftar tetangga, jarak, dan label KMeans dari tetangga.\n",
    "- Praktik preprocessing yang diterapkan:\n",
    "    - Imputasi missing numeric dengan mean.\n",
    "    - Membuat fitur baru: TotalArea = GrLivArea + TotalBsmtSF.\n",
    "    - Standarisasi seluruh fitur numerik (scaler disimpan agar dapat digunakan kembali).\n",
    "- Catatan evaluasi & debugging:\n",
    "    - Untuk DBSCAN, abaikan label -1 saat menghitung silhouette/davies-bouldin.\n",
    "    - Bereksperimen dengan jumlah trees di Annoy dan jumlah neighbor yang diminta untuk trade-off akurasi vs kecepatan.\n",
    "    - Visualisasikan hasil (PCA 2D) untuk inspeksi manual dan validasi intuisi cluster."
   ]
  },
  {
   "cell_type": "markdown",
   "id": "5ff05813",
   "metadata": {},
   "source": [
    "Load Dataset"
   ]
  },
  {
   "cell_type": "code",
   "execution_count": null,
   "id": "4926b82e",
   "metadata": {},
   "outputs": [
    {
     "name": "stdout",
     "output_type": "stream",
     "text": [
      "<class 'pandas.core.frame.DataFrame'>\n",
      "RangeIndex: 1460 entries, 0 to 1459\n",
      "Data columns (total 81 columns):\n",
      " #   Column         Non-Null Count  Dtype  \n",
      "---  ------         --------------  -----  \n",
      " 0   Id             1460 non-null   int64  \n",
      " 1   MSSubClass     1460 non-null   int64  \n",
      " 2   MSZoning       1460 non-null   object \n",
      " 3   LotFrontage    1201 non-null   float64\n",
      " 4   LotArea        1460 non-null   int64  \n",
      " 5   Street         1460 non-null   object \n",
      " 6   Alley          91 non-null     object \n",
      " 7   LotShape       1460 non-null   object \n",
      " 8   LandContour    1460 non-null   object \n",
      " 9   Utilities      1460 non-null   object \n",
      " 10  LotConfig      1460 non-null   object \n",
      " 11  LandSlope      1460 non-null   object \n",
      " 12  Neighborhood   1460 non-null   object \n",
      " 13  Condition1     1460 non-null   object \n",
      " 14  Condition2     1460 non-null   object \n",
      " 15  BldgType       1460 non-null   object \n",
      " 16  HouseStyle     1460 non-null   object \n",
      " 17  OverallQual    1460 non-null   int64  \n",
      " 18  OverallCond    1460 non-null   int64  \n",
      " 19  YearBuilt      1460 non-null   int64  \n",
      " 20  YearRemodAdd   1460 non-null   int64  \n",
      " 21  RoofStyle      1460 non-null   object \n",
      " 22  RoofMatl       1460 non-null   object \n",
      " 23  Exterior1st    1460 non-null   object \n",
      " 24  Exterior2nd    1460 non-null   object \n",
      " 25  MasVnrType     588 non-null    object \n",
      " 26  MasVnrArea     1452 non-null   float64\n",
      " 27  ExterQual      1460 non-null   object \n",
      " 28  ExterCond      1460 non-null   object \n",
      " 29  Foundation     1460 non-null   object \n",
      " 30  BsmtQual       1423 non-null   object \n",
      " 31  BsmtCond       1423 non-null   object \n",
      " 32  BsmtExposure   1422 non-null   object \n",
      " 33  BsmtFinType1   1423 non-null   object \n",
      " 34  BsmtFinSF1     1460 non-null   int64  \n",
      " 35  BsmtFinType2   1422 non-null   object \n",
      " 36  BsmtFinSF2     1460 non-null   int64  \n",
      " 37  BsmtUnfSF      1460 non-null   int64  \n",
      " 38  TotalBsmtSF    1460 non-null   int64  \n",
      " 39  Heating        1460 non-null   object \n",
      " 40  HeatingQC      1460 non-null   object \n",
      " 41  CentralAir     1460 non-null   object \n",
      " 42  Electrical     1459 non-null   object \n",
      " 43  1stFlrSF       1460 non-null   int64  \n",
      " 44  2ndFlrSF       1460 non-null   int64  \n",
      " 45  LowQualFinSF   1460 non-null   int64  \n",
      " 46  GrLivArea      1460 non-null   int64  \n",
      " 47  BsmtFullBath   1460 non-null   int64  \n",
      " 48  BsmtHalfBath   1460 non-null   int64  \n",
      " 49  FullBath       1460 non-null   int64  \n",
      " 50  HalfBath       1460 non-null   int64  \n",
      " 51  BedroomAbvGr   1460 non-null   int64  \n",
      " 52  KitchenAbvGr   1460 non-null   int64  \n",
      " 53  KitchenQual    1460 non-null   object \n",
      " 54  TotRmsAbvGrd   1460 non-null   int64  \n",
      " 55  Functional     1460 non-null   object \n",
      " 56  Fireplaces     1460 non-null   int64  \n",
      " 57  FireplaceQu    770 non-null    object \n",
      " 58  GarageType     1379 non-null   object \n",
      " 59  GarageYrBlt    1379 non-null   float64\n",
      " 60  GarageFinish   1379 non-null   object \n",
      " 61  GarageCars     1460 non-null   int64  \n",
      " 62  GarageArea     1460 non-null   int64  \n",
      " 63  GarageQual     1379 non-null   object \n",
      " 64  GarageCond     1379 non-null   object \n",
      " 65  PavedDrive     1460 non-null   object \n",
      " 66  WoodDeckSF     1460 non-null   int64  \n",
      " 67  OpenPorchSF    1460 non-null   int64  \n",
      " 68  EnclosedPorch  1460 non-null   int64  \n",
      " 69  3SsnPorch      1460 non-null   int64  \n",
      " 70  ScreenPorch    1460 non-null   int64  \n",
      " 71  PoolArea       1460 non-null   int64  \n",
      " 72  PoolQC         7 non-null      object \n",
      " 73  Fence          281 non-null    object \n",
      " 74  MiscFeature    54 non-null     object \n",
      " 75  MiscVal        1460 non-null   int64  \n",
      " 76  MoSold         1460 non-null   int64  \n",
      " 77  YrSold         1460 non-null   int64  \n",
      " 78  SaleType       1460 non-null   object \n",
      " 79  SaleCondition  1460 non-null   object \n",
      " 80  SalePrice      1460 non-null   int64  \n",
      "dtypes: float64(3), int64(35), object(43)\n",
      "memory usage: 924.0+ KB\n"
     ]
    },
    {
     "data": {
      "text/html": [
       "<div>\n",
       "<style scoped>\n",
       "    .dataframe tbody tr th:only-of-type {\n",
       "        vertical-align: middle;\n",
       "    }\n",
       "\n",
       "    .dataframe tbody tr th {\n",
       "        vertical-align: top;\n",
       "    }\n",
       "\n",
       "    .dataframe thead th {\n",
       "        text-align: right;\n",
       "    }\n",
       "</style>\n",
       "<table border=\"1\" class=\"dataframe\">\n",
       "  <thead>\n",
       "    <tr style=\"text-align: right;\">\n",
       "      <th></th>\n",
       "      <th>Id</th>\n",
       "      <th>MSSubClass</th>\n",
       "      <th>MSZoning</th>\n",
       "      <th>LotFrontage</th>\n",
       "      <th>LotArea</th>\n",
       "      <th>Street</th>\n",
       "      <th>Alley</th>\n",
       "      <th>LotShape</th>\n",
       "      <th>LandContour</th>\n",
       "      <th>Utilities</th>\n",
       "      <th>...</th>\n",
       "      <th>PoolArea</th>\n",
       "      <th>PoolQC</th>\n",
       "      <th>Fence</th>\n",
       "      <th>MiscFeature</th>\n",
       "      <th>MiscVal</th>\n",
       "      <th>MoSold</th>\n",
       "      <th>YrSold</th>\n",
       "      <th>SaleType</th>\n",
       "      <th>SaleCondition</th>\n",
       "      <th>SalePrice</th>\n",
       "    </tr>\n",
       "  </thead>\n",
       "  <tbody>\n",
       "    <tr>\n",
       "      <th>0</th>\n",
       "      <td>1</td>\n",
       "      <td>60</td>\n",
       "      <td>RL</td>\n",
       "      <td>65.0</td>\n",
       "      <td>8450</td>\n",
       "      <td>Pave</td>\n",
       "      <td>NaN</td>\n",
       "      <td>Reg</td>\n",
       "      <td>Lvl</td>\n",
       "      <td>AllPub</td>\n",
       "      <td>...</td>\n",
       "      <td>0</td>\n",
       "      <td>NaN</td>\n",
       "      <td>NaN</td>\n",
       "      <td>NaN</td>\n",
       "      <td>0</td>\n",
       "      <td>2</td>\n",
       "      <td>2008</td>\n",
       "      <td>WD</td>\n",
       "      <td>Normal</td>\n",
       "      <td>208500</td>\n",
       "    </tr>\n",
       "    <tr>\n",
       "      <th>1</th>\n",
       "      <td>2</td>\n",
       "      <td>20</td>\n",
       "      <td>RL</td>\n",
       "      <td>80.0</td>\n",
       "      <td>9600</td>\n",
       "      <td>Pave</td>\n",
       "      <td>NaN</td>\n",
       "      <td>Reg</td>\n",
       "      <td>Lvl</td>\n",
       "      <td>AllPub</td>\n",
       "      <td>...</td>\n",
       "      <td>0</td>\n",
       "      <td>NaN</td>\n",
       "      <td>NaN</td>\n",
       "      <td>NaN</td>\n",
       "      <td>0</td>\n",
       "      <td>5</td>\n",
       "      <td>2007</td>\n",
       "      <td>WD</td>\n",
       "      <td>Normal</td>\n",
       "      <td>181500</td>\n",
       "    </tr>\n",
       "    <tr>\n",
       "      <th>2</th>\n",
       "      <td>3</td>\n",
       "      <td>60</td>\n",
       "      <td>RL</td>\n",
       "      <td>68.0</td>\n",
       "      <td>11250</td>\n",
       "      <td>Pave</td>\n",
       "      <td>NaN</td>\n",
       "      <td>IR1</td>\n",
       "      <td>Lvl</td>\n",
       "      <td>AllPub</td>\n",
       "      <td>...</td>\n",
       "      <td>0</td>\n",
       "      <td>NaN</td>\n",
       "      <td>NaN</td>\n",
       "      <td>NaN</td>\n",
       "      <td>0</td>\n",
       "      <td>9</td>\n",
       "      <td>2008</td>\n",
       "      <td>WD</td>\n",
       "      <td>Normal</td>\n",
       "      <td>223500</td>\n",
       "    </tr>\n",
       "    <tr>\n",
       "      <th>3</th>\n",
       "      <td>4</td>\n",
       "      <td>70</td>\n",
       "      <td>RL</td>\n",
       "      <td>60.0</td>\n",
       "      <td>9550</td>\n",
       "      <td>Pave</td>\n",
       "      <td>NaN</td>\n",
       "      <td>IR1</td>\n",
       "      <td>Lvl</td>\n",
       "      <td>AllPub</td>\n",
       "      <td>...</td>\n",
       "      <td>0</td>\n",
       "      <td>NaN</td>\n",
       "      <td>NaN</td>\n",
       "      <td>NaN</td>\n",
       "      <td>0</td>\n",
       "      <td>2</td>\n",
       "      <td>2006</td>\n",
       "      <td>WD</td>\n",
       "      <td>Abnorml</td>\n",
       "      <td>140000</td>\n",
       "    </tr>\n",
       "    <tr>\n",
       "      <th>4</th>\n",
       "      <td>5</td>\n",
       "      <td>60</td>\n",
       "      <td>RL</td>\n",
       "      <td>84.0</td>\n",
       "      <td>14260</td>\n",
       "      <td>Pave</td>\n",
       "      <td>NaN</td>\n",
       "      <td>IR1</td>\n",
       "      <td>Lvl</td>\n",
       "      <td>AllPub</td>\n",
       "      <td>...</td>\n",
       "      <td>0</td>\n",
       "      <td>NaN</td>\n",
       "      <td>NaN</td>\n",
       "      <td>NaN</td>\n",
       "      <td>0</td>\n",
       "      <td>12</td>\n",
       "      <td>2008</td>\n",
       "      <td>WD</td>\n",
       "      <td>Normal</td>\n",
       "      <td>250000</td>\n",
       "    </tr>\n",
       "  </tbody>\n",
       "</table>\n",
       "<p>5 rows × 81 columns</p>\n",
       "</div>"
      ],
      "text/plain": [
       "   Id  MSSubClass MSZoning  LotFrontage  LotArea Street Alley LotShape  \\\n",
       "0   1          60       RL         65.0     8450   Pave   NaN      Reg   \n",
       "1   2          20       RL         80.0     9600   Pave   NaN      Reg   \n",
       "2   3          60       RL         68.0    11250   Pave   NaN      IR1   \n",
       "3   4          70       RL         60.0     9550   Pave   NaN      IR1   \n",
       "4   5          60       RL         84.0    14260   Pave   NaN      IR1   \n",
       "\n",
       "  LandContour Utilities  ... PoolArea PoolQC Fence MiscFeature MiscVal MoSold  \\\n",
       "0         Lvl    AllPub  ...        0    NaN   NaN         NaN       0      2   \n",
       "1         Lvl    AllPub  ...        0    NaN   NaN         NaN       0      5   \n",
       "2         Lvl    AllPub  ...        0    NaN   NaN         NaN       0      9   \n",
       "3         Lvl    AllPub  ...        0    NaN   NaN         NaN       0      2   \n",
       "4         Lvl    AllPub  ...        0    NaN   NaN         NaN       0     12   \n",
       "\n",
       "  YrSold  SaleType  SaleCondition  SalePrice  \n",
       "0   2008        WD         Normal     208500  \n",
       "1   2007        WD         Normal     181500  \n",
       "2   2008        WD         Normal     223500  \n",
       "3   2006        WD        Abnorml     140000  \n",
       "4   2008        WD         Normal     250000  \n",
       "\n",
       "[5 rows x 81 columns]"
      ]
     },
     "execution_count": 6,
     "metadata": {},
     "output_type": "execute_result"
    }
   ],
   "source": [
    "df = pd.read_csv(r'D:\\File untuk kuliah\\Semester-5\\Pembelajaran Mesin\\Praktek\\MachineLearning_Smst5_2025\\UTS\\Assets\\train.csv')\n",
    "\n",
    "df.info()\n",
    "df.head()"
   ]
  },
  {
   "cell_type": "markdown",
   "id": "8488d88f",
   "metadata": {},
   "source": [
    "Memuat dataset `House Prices - Advanced Regression Techniques` (file `train.csv` dari Kaggle (https://www.kaggle.com/competitions/house-prices-advanced-regression-techniques/data?select=train.csv)).\n",
    "\n",
    "Langkah inspeksi awal:\n",
    "- `df.info()` untuk melihat jumlah baris, tipe data tiap kolom, dan kolom yang memiliki missing values.\n",
    "- `df.head()` untuk melihat contoh baris dan struktur data.\n"
   ]
  },
  {
   "cell_type": "markdown",
   "id": "2ce25425",
   "metadata": {},
   "source": [
    "Preprocessing Data"
   ]
  },
  {
   "cell_type": "code",
   "execution_count": 7,
   "id": "8a232ff0",
   "metadata": {},
   "outputs": [
    {
     "data": {
      "text/html": [
       "<div>\n",
       "<style scoped>\n",
       "    .dataframe tbody tr th:only-of-type {\n",
       "        vertical-align: middle;\n",
       "    }\n",
       "\n",
       "    .dataframe tbody tr th {\n",
       "        vertical-align: top;\n",
       "    }\n",
       "\n",
       "    .dataframe thead th {\n",
       "        text-align: right;\n",
       "    }\n",
       "</style>\n",
       "<table border=\"1\" class=\"dataframe\">\n",
       "  <thead>\n",
       "    <tr style=\"text-align: right;\">\n",
       "      <th></th>\n",
       "      <th>Id</th>\n",
       "      <th>MSSubClass</th>\n",
       "      <th>LotFrontage</th>\n",
       "      <th>LotArea</th>\n",
       "      <th>OverallQual</th>\n",
       "      <th>OverallCond</th>\n",
       "      <th>YearBuilt</th>\n",
       "      <th>YearRemodAdd</th>\n",
       "      <th>MasVnrArea</th>\n",
       "      <th>BsmtFinSF1</th>\n",
       "      <th>...</th>\n",
       "      <th>WoodDeckSF</th>\n",
       "      <th>OpenPorchSF</th>\n",
       "      <th>EnclosedPorch</th>\n",
       "      <th>3SsnPorch</th>\n",
       "      <th>ScreenPorch</th>\n",
       "      <th>PoolArea</th>\n",
       "      <th>MiscVal</th>\n",
       "      <th>MoSold</th>\n",
       "      <th>YrSold</th>\n",
       "      <th>SalePrice</th>\n",
       "    </tr>\n",
       "  </thead>\n",
       "  <tbody>\n",
       "    <tr>\n",
       "      <th>0</th>\n",
       "      <td>1</td>\n",
       "      <td>60</td>\n",
       "      <td>65.0</td>\n",
       "      <td>8450</td>\n",
       "      <td>7</td>\n",
       "      <td>5</td>\n",
       "      <td>2003</td>\n",
       "      <td>2003</td>\n",
       "      <td>196.0</td>\n",
       "      <td>706</td>\n",
       "      <td>...</td>\n",
       "      <td>0</td>\n",
       "      <td>61</td>\n",
       "      <td>0</td>\n",
       "      <td>0</td>\n",
       "      <td>0</td>\n",
       "      <td>0</td>\n",
       "      <td>0</td>\n",
       "      <td>2</td>\n",
       "      <td>2008</td>\n",
       "      <td>208500</td>\n",
       "    </tr>\n",
       "    <tr>\n",
       "      <th>1</th>\n",
       "      <td>2</td>\n",
       "      <td>20</td>\n",
       "      <td>80.0</td>\n",
       "      <td>9600</td>\n",
       "      <td>6</td>\n",
       "      <td>8</td>\n",
       "      <td>1976</td>\n",
       "      <td>1976</td>\n",
       "      <td>0.0</td>\n",
       "      <td>978</td>\n",
       "      <td>...</td>\n",
       "      <td>298</td>\n",
       "      <td>0</td>\n",
       "      <td>0</td>\n",
       "      <td>0</td>\n",
       "      <td>0</td>\n",
       "      <td>0</td>\n",
       "      <td>0</td>\n",
       "      <td>5</td>\n",
       "      <td>2007</td>\n",
       "      <td>181500</td>\n",
       "    </tr>\n",
       "    <tr>\n",
       "      <th>2</th>\n",
       "      <td>3</td>\n",
       "      <td>60</td>\n",
       "      <td>68.0</td>\n",
       "      <td>11250</td>\n",
       "      <td>7</td>\n",
       "      <td>5</td>\n",
       "      <td>2001</td>\n",
       "      <td>2002</td>\n",
       "      <td>162.0</td>\n",
       "      <td>486</td>\n",
       "      <td>...</td>\n",
       "      <td>0</td>\n",
       "      <td>42</td>\n",
       "      <td>0</td>\n",
       "      <td>0</td>\n",
       "      <td>0</td>\n",
       "      <td>0</td>\n",
       "      <td>0</td>\n",
       "      <td>9</td>\n",
       "      <td>2008</td>\n",
       "      <td>223500</td>\n",
       "    </tr>\n",
       "    <tr>\n",
       "      <th>3</th>\n",
       "      <td>4</td>\n",
       "      <td>70</td>\n",
       "      <td>60.0</td>\n",
       "      <td>9550</td>\n",
       "      <td>7</td>\n",
       "      <td>5</td>\n",
       "      <td>1915</td>\n",
       "      <td>1970</td>\n",
       "      <td>0.0</td>\n",
       "      <td>216</td>\n",
       "      <td>...</td>\n",
       "      <td>0</td>\n",
       "      <td>35</td>\n",
       "      <td>272</td>\n",
       "      <td>0</td>\n",
       "      <td>0</td>\n",
       "      <td>0</td>\n",
       "      <td>0</td>\n",
       "      <td>2</td>\n",
       "      <td>2006</td>\n",
       "      <td>140000</td>\n",
       "    </tr>\n",
       "    <tr>\n",
       "      <th>4</th>\n",
       "      <td>5</td>\n",
       "      <td>60</td>\n",
       "      <td>84.0</td>\n",
       "      <td>14260</td>\n",
       "      <td>8</td>\n",
       "      <td>5</td>\n",
       "      <td>2000</td>\n",
       "      <td>2000</td>\n",
       "      <td>350.0</td>\n",
       "      <td>655</td>\n",
       "      <td>...</td>\n",
       "      <td>192</td>\n",
       "      <td>84</td>\n",
       "      <td>0</td>\n",
       "      <td>0</td>\n",
       "      <td>0</td>\n",
       "      <td>0</td>\n",
       "      <td>0</td>\n",
       "      <td>12</td>\n",
       "      <td>2008</td>\n",
       "      <td>250000</td>\n",
       "    </tr>\n",
       "  </tbody>\n",
       "</table>\n",
       "<p>5 rows × 38 columns</p>\n",
       "</div>"
      ],
      "text/plain": [
       "   Id  MSSubClass  LotFrontage  LotArea  OverallQual  OverallCond  YearBuilt  \\\n",
       "0   1          60         65.0     8450            7            5       2003   \n",
       "1   2          20         80.0     9600            6            8       1976   \n",
       "2   3          60         68.0    11250            7            5       2001   \n",
       "3   4          70         60.0     9550            7            5       1915   \n",
       "4   5          60         84.0    14260            8            5       2000   \n",
       "\n",
       "   YearRemodAdd  MasVnrArea  BsmtFinSF1  ...  WoodDeckSF  OpenPorchSF  \\\n",
       "0          2003       196.0         706  ...           0           61   \n",
       "1          1976         0.0         978  ...         298            0   \n",
       "2          2002       162.0         486  ...           0           42   \n",
       "3          1970         0.0         216  ...           0           35   \n",
       "4          2000       350.0         655  ...         192           84   \n",
       "\n",
       "   EnclosedPorch  3SsnPorch  ScreenPorch  PoolArea  MiscVal  MoSold  YrSold  \\\n",
       "0              0          0            0         0        0       2    2008   \n",
       "1              0          0            0         0        0       5    2007   \n",
       "2              0          0            0         0        0       9    2008   \n",
       "3            272          0            0         0        0       2    2006   \n",
       "4              0          0            0         0        0      12    2008   \n",
       "\n",
       "   SalePrice  \n",
       "0     208500  \n",
       "1     181500  \n",
       "2     223500  \n",
       "3     140000  \n",
       "4     250000  \n",
       "\n",
       "[5 rows x 38 columns]"
      ]
     },
     "execution_count": 7,
     "metadata": {},
     "output_type": "execute_result"
    }
   ],
   "source": [
    "num_df = df.select_dtypes(include=['float64', 'int64']).copy()\n",
    "num_df.head()"
   ]
  },
  {
   "cell_type": "markdown",
   "id": "4dd54983",
   "metadata": {},
   "source": [
    "- `num_df = df.select_dtypes(include=['float64', 'int64']).copy()`\n",
    "    - `num_df = df.select_dtypes(include=['float64', 'int64']).copy()`\n",
    "    - Memilih semua kolom numerik bertipe float64 atau int64 dari DataFrame `df`.\n",
    "    - Membuat salinan (`.copy()`) sehingga perubahan pada `num_df` tidak mempengaruhi `df` (menghindari warning/efek samping).\n",
    "\n",
    "- `num_df.head()`\n",
    "    - `num_df.head()`\n",
    "    - Menampilkan 5 baris pertama dari `num_df` untuk inspeksi cepat.\n",
    "\n",
    "Tujuan keseluruhan: mengambil subset fitur numerik untuk preprocessing/analisis (mis. imputasi, normalisasi, pembuatan fitur baru) dan melihat struktur datanya."
   ]
  },
  {
   "cell_type": "markdown",
   "id": "2ad2e24c",
   "metadata": {},
   "source": [
    "missing values"
   ]
  },
  {
   "cell_type": "code",
   "execution_count": 8,
   "id": "cf5520f7",
   "metadata": {},
   "outputs": [
    {
     "name": "stdout",
     "output_type": "stream",
     "text": [
      "LotFrontage    259\n",
      "MasVnrArea       8\n",
      "GarageYrBlt     81\n",
      "dtype: int64\n"
     ]
    }
   ],
   "source": [
    "print(num_df.isnull().sum()[num_df.isnull().sum() > 0])\n",
    "num_df.fillna(num_df.mean(), inplace=True)"
   ]
  },
  {
   "cell_type": "markdown",
   "id": "d0ac1306",
   "metadata": {},
   "source": [
    "- `print(num_df.isnull().sum()[num_df.isnull().sum() > 0])`\n",
    "    - Menghitung jumlah nilai kosong (NaN) tiap kolom di `num_df`, memfilter hanya kolom yang memiliki >0 NaN, lalu menampilkannya. Berguna untuk mengetahui kolom mana yang perlu di-imputasi.\n",
    "\n",
    "- `num_df.fillna(num_df.mean(), inplace=True)`\n",
    "    - Mengisi (imputasi) nilai NaN pada setiap kolom numerik dengan mean (rata‑rata) kolom tersebut: `num_df.fillna(num_df.mean(), inplace=True)`.\n",
    "    - `inplace=True` berarti perubahan diterapkan langsung ke `num_df`.\n",
    "    - Catatan: jika sebuah kolom seluruhnya NaN, mean akan NaN dan kolom tetap berisi NaN; untuk fitur non‑numerik diperlukan strategi imputasi berbeda (modus, konstanta, dsb.).\n",
    "\n",
    "- Kesimpulan Hasil :\n",
    "    - LotFrontage    259  \n",
    "        - Ada 259 nilai kosong pada kolom LotFrontage (~259/1460 = 17.74%). proporsi cukup besar — pertimbangkan imputasi lebih hati‑hati (median, group‑median per Neighborhood, atau model imputer) atau tanda khusus jika missing bermakna.\n",
    "\n",
    "    - MasVnrArea       8  \n",
    "        - Hanya 8 nilai kosong (~0.55%). kecil, imputasi mean/median biasanya aman. Periksa juga MasVnrType: jika tipe = None, area = 0 bisa lebih masuk akal daripada mean.\n",
    "\n",
    "    - GarageYrBlt     81  \n",
    "        - 81 nilai kosong (~5.55%). seringkali NaN pada GarageYrBlt berarti rumah tidak punya garasi; menggantinya dengan mean tahun bisa menyesatkan. Lebih baik:\n",
    "            - buat fitur biner GarageExists (1 jika ada garasi, 0 jika tidak), lalu imputasi GarageYrBlt hanya untuk yang punya garasi (atau isi dengan 0/median dan gunakan GarageExists sebagai konteks).\n",
    "\n",
    "    Note : hasil ini dibuat code `print(num_df.isnull().sum()[num_df.isnull().sum() > 0])`. Setelah itu Anda menjalankan `num_df.fillna(num_df.mean(), inplace=True)` sehingga nilai‑nilai NaN pada kolom numerik akan digantikan oleh rata‑rata kolom (kecuali kolom yang seluruhnya NaN). Pastikan strategi imputasi sesuai konteks tiap kolom, bukan selalu mean."
   ]
  },
  {
   "cell_type": "markdown",
   "id": "e7b2806a",
   "metadata": {},
   "source": [
    "Membuat fitur baru"
   ]
  },
  {
   "cell_type": "code",
   "execution_count": null,
   "id": "370c0a1b",
   "metadata": {},
   "outputs": [],
   "source": [
    "num_df['TotalArea'] = num_df['GrLivArea'] + num_df['TotalBsmtSF']"
   ]
  },
  {
   "cell_type": "markdown",
   "id": "39db560e",
   "metadata": {},
   "source": [
    "membuat fitur gabungan `TotalArea` (luas lantai + basement) yang bisa menambah informasi untuk clustering."
   ]
  },
  {
   "cell_type": "markdown",
   "id": "d5980ebf",
   "metadata": {},
   "source": [
    "Normalisasi / Standarisasi"
   ]
  },
  {
   "cell_type": "code",
   "execution_count": 11,
   "id": "07d454e5",
   "metadata": {},
   "outputs": [],
   "source": [
    "scaler = StandardScaler()\n",
    "X_scaled = scaler.fit_transform(num_df)"
   ]
  },
  {
   "cell_type": "markdown",
   "id": "5c4877df",
   "metadata": {},
   "source": [
    "`StandardScaler` mengubah tiap fitur menjadi distribusi dengan mean=0 dan std=1.\n",
    "Mengapa penting? K-Means dan DBSCAN berbasis jarak : fitur dengan skala besar akan mendominasi jika tidak distandarisasi.\n",
    "\n",
    "`X_scaled` menjadi `numpy.ndarray` 2D siap untuk clustering."
   ]
  },
  {
   "cell_type": "markdown",
   "id": "216d9d65",
   "metadata": {},
   "source": [
    "Clustering"
   ]
  },
  {
   "cell_type": "code",
   "execution_count": 12,
   "id": "cf9e092a",
   "metadata": {},
   "outputs": [
    {
     "name": "stderr",
     "output_type": "stream",
     "text": [
      "c:\\Users\\ASUS\\anaconda3\\Lib\\site-packages\\joblib\\externals\\loky\\backend\\context.py:136: UserWarning: Could not find the number of physical cores for the following reason:\n",
      "[WinError 2] The system cannot find the file specified\n",
      "Returning the number of logical cores instead. You can silence this warning by setting LOKY_MAX_CPU_COUNT to the number of cores you want to use.\n",
      "  warnings.warn(\n",
      "  File \"c:\\Users\\ASUS\\anaconda3\\Lib\\site-packages\\joblib\\externals\\loky\\backend\\context.py\", line 257, in _count_physical_cores\n",
      "    cpu_info = subprocess.run(\n",
      "        \"wmic CPU Get NumberOfCores /Format:csv\".split(),\n",
      "        capture_output=True,\n",
      "        text=True,\n",
      "    )\n",
      "  File \"c:\\Users\\ASUS\\anaconda3\\Lib\\subprocess.py\", line 554, in run\n",
      "    with Popen(*popenargs, **kwargs) as process:\n",
      "         ~~~~~^^^^^^^^^^^^^^^^^^^^^^\n",
      "  File \"c:\\Users\\ASUS\\anaconda3\\Lib\\subprocess.py\", line 1039, in __init__\n",
      "    self._execute_child(args, executable, preexec_fn, close_fds,\n",
      "    ~~~~~~~~~~~~~~~~~~~^^^^^^^^^^^^^^^^^^^^^^^^^^^^^^^^^^^^^^^^^\n",
      "                        pass_fds, cwd, env,\n",
      "                        ^^^^^^^^^^^^^^^^^^^\n",
      "    ...<5 lines>...\n",
      "                        gid, gids, uid, umask,\n",
      "                        ^^^^^^^^^^^^^^^^^^^^^^\n",
      "                        start_new_session, process_group)\n",
      "                        ^^^^^^^^^^^^^^^^^^^^^^^^^^^^^^^^^\n",
      "  File \"c:\\Users\\ASUS\\anaconda3\\Lib\\subprocess.py\", line 1554, in _execute_child\n",
      "    hp, ht, pid, tid = _winapi.CreateProcess(executable, args,\n",
      "                       ~~~~~~~~~~~~~~~~~~~~~^^^^^^^^^^^^^^^^^^\n",
      "                             # no special security\n",
      "                             ^^^^^^^^^^^^^^^^^^^^^\n",
      "    ...<4 lines>...\n",
      "                             cwd,\n",
      "                             ^^^^\n",
      "                             startupinfo)\n",
      "                             ^^^^^^^^^^^^\n"
     ]
    },
    {
     "name": "stdout",
     "output_type": "stream",
     "text": [
      "KMeans - Silhouette: 0.1302, Davies–Bouldin: 2.7149\n"
     ]
    },
    {
     "name": "stderr",
     "output_type": "stream",
     "text": [
      "c:\\Users\\ASUS\\anaconda3\\Lib\\site-packages\\sklearn\\cluster\\_kmeans.py:1419: UserWarning: KMeans is known to have a memory leak on Windows with MKL, when there are less chunks than available threads. You can avoid it by setting the environment variable OMP_NUM_THREADS=6.\n",
      "  warnings.warn(\n"
     ]
    }
   ],
   "source": [
    "kmeans = KMeans(n_clusters=3, random_state=42)\n",
    "labels_kmeans = kmeans.fit_predict(X_scaled)\n",
    "\n",
    "sil_kmeans = silhouette_score(X_scaled, labels_kmeans)\n",
    "dbi_kmeans = davies_bouldin_score(X_scaled, labels_kmeans)\n",
    "print(f\"KMeans - Silhouette: {sil_kmeans:.4f}, Davies–Bouldin: {dbi_kmeans:.4f}\")\n"
   ]
  },
  {
   "cell_type": "markdown",
   "id": "4722ec4a",
   "metadata": {},
   "source": [
    "`KMeans(n_clusters=3)` membuat 3 cluster.\n",
    "`fit_predict` menyesuaikan model dan memberi label cluster tiap sampel.\n",
    "\n",
    "Metrik evaluasi:\n",
    " - Silhouette Score ∈ [-1, 1], lebih tinggi → cluster lebih baik (separation & cohesion).\n",
    " - Davies–Bouldin Index (DBI), lebih rendah → cluster lebih baik (antara-cluster similarity rendah).\n",
    "\n",
    "Note: pemilihan `n_clusters` sebaiknya divalidasi (elbow method, silhouette range, atau mencoba beberapa nilai)."
   ]
  },
  {
   "cell_type": "markdown",
   "id": "8c8826b6",
   "metadata": {},
   "source": [
    "DBSCAN"
   ]
  },
  {
   "cell_type": "code",
   "execution_count": 13,
   "id": "f5a17f66",
   "metadata": {},
   "outputs": [
    {
     "name": "stdout",
     "output_type": "stream",
     "text": [
      "DBSCAN - Silhouette: 0.2462, Davies–Bouldin: 1.3664\n"
     ]
    }
   ],
   "source": [
    "dbscan = DBSCAN(eps=2.5, min_samples=5)\n",
    "labels_dbscan = dbscan.fit_predict(X_scaled)\n",
    "\n",
    "mask = labels_dbscan != -1\n",
    "if len(np.unique(labels_dbscan[mask])) > 1:\n",
    "    sil_dbscan = silhouette_score(X_scaled[mask], labels_dbscan[mask])\n",
    "    dbi_dbscan = davies_bouldin_score(X_scaled[mask], labels_dbscan[mask])\n",
    "else:\n",
    "    sil_dbscan, dbi_dbscan = np.nan, np.nan\n",
    "\n",
    "print(f\"DBSCAN - Silhouette: {sil_dbscan:.4f}, Davies–Bouldin: {dbi_dbscan:.4f}\")\n"
   ]
  },
  {
   "cell_type": "markdown",
   "id": "b729dfc7",
   "metadata": {},
   "source": [
    "`DBSCAN` adalah clustering density-based; eps = radius tetangga, min_samples = min poin di sekitar untuk jadi core point.\n",
    "\n",
    "`labels_dbscan` memberi -1 untuk noise/outlier.\n",
    "\n",
    "Mask: kamu mengecualikan noise saat menghitung metrik itu langkah tepat karena metrik seperti silhouette memerlukan label-cluster valid (>1 cluster).\n"
   ]
  },
  {
   "cell_type": "markdown",
   "id": "b53f2e01",
   "metadata": {},
   "source": [
    "Visualisasi Clustering"
   ]
  },
  {
   "cell_type": "code",
   "execution_count": 14,
   "id": "0234b86e",
   "metadata": {},
   "outputs": [
    {
     "data": {
      "image/png": "[encoded data removed]",
      "text/plain": [
       "<Figure size 1000x500 with 2 Axes>"
      ]
     },
     "metadata": {},
     "output_type": "display_data"
    }
   ],
   "source": [
    "pca = PCA(n_components=2)\n",
    "X_pca = pca.fit_transform(X_scaled)\n",
    "\n",
    "plt.figure(figsize=(10,5))\n",
    "\n",
    "plt.subplot(1,2,1)\n",
    "plt.scatter(X_pca[:,0], X_pca[:,1], c=labels_kmeans, cmap='viridis')\n",
    "plt.title(\"K-Means Clustering (PCA 2D)\")\n",
    "\n",
    "plt.subplot(1,2,2)\n",
    "plt.scatter(X_pca[:,0], X_pca[:,1], c=labels_dbscan, cmap='plasma')\n",
    "plt.title(\"DBSCAN Clustering (PCA 2D)\")\n",
    "\n",
    "plt.show()\n"
   ]
  },
  {
   "cell_type": "markdown",
   "id": "a65927a7",
   "metadata": {},
   "source": [
    "- PCA mereduksi dimensi ke 2 supaya bisa divisualisasikan.\n",
    "- Warna berdasarkan label cluster."
   ]
  },
  {
   "cell_type": "markdown",
   "id": "e98bcc25",
   "metadata": {},
   "source": [
    "Approximate Nearest Neighbor (Annoy)"
   ]
  },
  {
   "cell_type": "code",
   "execution_count": null,
   "id": "69a0e155",
   "metadata": {},
   "outputs": [
    {
     "data": {
      "text/plain": [
       "True"
      ]
     },
     "execution_count": 15,
     "metadata": {},
     "output_type": "execute_result"
    }
   ],
   "source": [
    "dim = X_scaled.shape[1]\n",
    "ann = AnnoyIndex(dim, 'euclidean')\n",
    "\n",
    "# Masukkan data\n",
    "for i, vec in enumerate(X_scaled):\n",
    "    ann.add_item(i, vec.tolist())\n",
    "\n",
    "ann.build(10) \n"
   ]
  },
  {
   "cell_type": "markdown",
   "id": "4928e522",
   "metadata": {},
   "source": [
    "`AnnoyIndex`(dim, 'euclidean') membuat indeks ANN untuk dimensi dim dengan metrik Euclidean.\n",
    "\n",
    "`add_item`(i, vec) menambahkan tiap vektor ke indeks dengan id i\n",
    "\n",
    "`build(10)` membangun 10 pohon : akurasi pencarian lebih baik tapi ukuran + waktu build lebih besar."
   ]
  },
  {
   "cell_type": "code",
   "execution_count": 18,
   "id": "271ae2b2",
   "metadata": {},
   "outputs": [
    {
     "name": "stdout",
     "output_type": "stream",
     "text": [
      "\n",
      " Query Point Index: 1172\n",
      "Neighbor Index: 1172 | Distance: 0.0000 | Cluster (KMeans): 1\n",
      "Neighbor Index: 687 | Distance: 2.5348 | Cluster (KMeans): 1\n",
      "Neighbor Index: 285 | Distance: 2.5384 | Cluster (KMeans): 1\n",
      "Neighbor Index: 1236 | Distance: 2.5549 | Cluster (KMeans): 2\n",
      "Neighbor Index: 578 | Distance: 2.6677 | Cluster (KMeans): 1\n",
      "\n",
      " Query Point Index: 387\n",
      "Neighbor Index: 387 | Distance: 0.0000 | Cluster (KMeans): 1\n",
      "Neighbor Index: 674 | Distance: 3.0263 | Cluster (KMeans): 1\n",
      "Neighbor Index: 509 | Distance: 3.4766 | Cluster (KMeans): 1\n",
      "Neighbor Index: 254 | Distance: 3.7269 | Cluster (KMeans): 1\n",
      "Neighbor Index: 269 | Distance: 3.7708 | Cluster (KMeans): 1\n",
      "\n",
      " Query Point Index: 1022\n",
      "Neighbor Index: 1022 | Distance: 0.0000 | Cluster (KMeans): 1\n",
      "Neighbor Index: 514 | Distance: 3.0552 | Cluster (KMeans): 1\n",
      "Neighbor Index: 1345 | Distance: 3.0895 | Cluster (KMeans): 1\n",
      "Neighbor Index: 1119 | Distance: 3.2475 | Cluster (KMeans): 1\n",
      "Neighbor Index: 121 | Distance: 3.5343 | Cluster (KMeans): 1\n"
     ]
    }
   ],
   "source": [
    "query_points = np.random.choice(len(X_scaled), 3, replace=False)\n",
    "\n",
    "for q in query_points:\n",
    "    neighbors, distances = ann.get_nns_by_item(q, 5, include_distances=True)\n",
    "    print(f\"\\n Query Point Index: {q}\")\n",
    "    for n, d in zip(neighbors, distances):\n",
    "        print(f\"Neighbor Index: {n} | Distance: {d:.4f} | Cluster (KMeans): {labels_kmeans[n]}\")\n"
   ]
  },
  {
   "cell_type": "markdown",
   "id": "6d9c1ae3",
   "metadata": {},
   "source": [
    "`np.random.choice(..., 3, replace=False)` memilih 3 indeks acak sebagai query points.\n",
    "\n",
    "`get_nns_by_item(q, 5, include_distances=True)` mencari 5 tetangga terdekat untuk item q. Catatan: Annoy biasanya mengembalikan item itu sendiri sebagai neighbor pertama (distance 0).\n"
   ]
  },
  {
   "cell_type": "markdown",
   "id": "2938318c",
   "metadata": {},
   "source": [
    "Kesimpulan"
   ]
  },
  {
   "cell_type": "code",
   "execution_count": 19,
   "id": "09ae477b",
   "metadata": {},
   "outputs": [
    {
     "name": "stdout",
     "output_type": "stream",
     "text": [
      "\n",
      "=== Hasil Evaluasi Clustering ===\n",
      "    Model  Silhouette Score  Davies–Bouldin Index\n",
      "0  KMeans          0.130191              2.714852\n",
      "1  DBSCAN          0.246227              1.366378\n"
     ]
    }
   ],
   "source": [
    "import pandas as pd\n",
    "\n",
    "# Buat tabel hasil evaluasi\n",
    "hasil = pd.DataFrame({\n",
    "    'Model': ['KMeans', 'DBSCAN'],\n",
    "    'Silhouette Score': [sil_kmeans, sil_dbscan],\n",
    "    'Davies–Bouldin Index': [dbi_kmeans, dbi_dbscan]\n",
    "})\n",
    "\n",
    "print(\"\\n=== Hasil Evaluasi Clustering ===\")\n",
    "print(hasil)\n"
   ]
  },
  {
   "cell_type": "markdown",
   "id": "b7a2307a",
   "metadata": {},
   "source": [
    "- Hasil dari Evaluasi Clustering (Silhouette Score (Semakin Tinggi => Semakin Baik))\n",
    "  - KMeans: 0.13 : Clutternya agak lemah\n",
    "  - DBSCAN: 0.24 : Hasilnya bagus tapi masih lemah\n",
    "\n",
    "- Hasil dari Evaluasi Clustering Davies–Bouldin Index (Semakin Rendah => Semakin Baik)\n",
    "  - KMeans: 2.71 : buruk\n",
    "  - DBSCAN: 1.36 : Hasil Baik"
   ]
  }
 ],
 "metadata": {
  "kernelspec": {
   "display_name": "base",
   "language": "python",
   "name": "python3"
  },
  "language_info": {
   "codemirror_mode": {
    "name": "ipython",
    "version": 3
   },
   "file_extension": ".py",
   "mimetype": "text/x-python",
   "name": "python",
   "nbconvert_exporter": "python",
   "pygments_lexer": "ipython3",
   "version": "3.13.5"
  }
 },
 "nbformat": 4,
 "nbformat_minor": 5
}
